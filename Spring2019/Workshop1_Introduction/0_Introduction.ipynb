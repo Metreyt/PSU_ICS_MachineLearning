{
 "cells": [
  {
   "cell_type": "markdown",
   "metadata": {},
   "source": [
    "# Welcome to Machine Learning"
   ]
  },
  {
   "cell_type": "markdown",
   "metadata": {},
   "source": [
    "Machine learning has "
   ]
  },
  {
   "cell_type": "markdown",
   "metadata": {},
   "source": [
    "# Machine Learning terminology\n",
    "\n",
    "There is some terminology that has become the common way to refer to different components of the system.\n",
    "\n",
    "## Features\n",
    "\n",
    "_Features_ are the input values for making a model. For instance, the feature set for a model to describe salary offer for a potential new employee may include:\n",
    "* Years Education\n",
    "* Degrees completed\n",
    "* Years Experience in similar positions\n",
    "* Previous salary\n",
    "* Previous job location\n",
    "* Need to fill the position \n",
    "\n",
    "The features may be numbers (years education, years experience, ...) or they may be discrete categories (degrees completed). \n",
    "\n",
    "## Labels"
   ]
  },
  {
   "cell_type": "markdown",
   "metadata": {},
   "source": [
    "# Types of Problems in ML"
   ]
  },
  {
   "cell_type": "code",
   "execution_count": null,
   "metadata": {},
   "outputs": [],
   "source": []
  },
  {
   "cell_type": "markdown",
   "metadata": {},
   "source": [
    "## Regression\n",
    "\n",
    "Regression problems are cases where a numeric answer is predicted based on the feature set. As an example, we may predict the cost of an apartment based on the feature set:\n",
    "* Square footage\n",
    "* Number of bedrooms\n",
    "* Number of bathrooms\n",
    "* Presence of any number of amenties\n",
    "* Crime rate in the local area\n",
    "* etc\n",
    "\n",
    "\n",
    "There are a number of types of regression:\n",
    "* Simple Linear Regression\n",
    "* Multiple Linear Regression\n",
    "* Polynomial Regression\n",
    "* Support Vector for Regression (SVR)\n",
    "* Decision Tree Classification\n",
    "* Random Forest Classification"
   ]
  },
  {
   "cell_type": "markdown",
   "metadata": {},
   "source": [
    "## Classification"
   ]
  },
  {
   "cell_type": "markdown",
   "metadata": {},
   "source": [
    "In classification problems, a discrete propertry or class is determined based on the feature set (which may be discrete or numeric as desired). As an example, we may classify "
   ]
  },
  {
   "cell_type": "markdown",
   "metadata": {},
   "source": [
    "## Clustering"
   ]
  },
  {
   "cell_type": "code",
   "execution_count": null,
   "metadata": {},
   "outputs": [],
   "source": []
  },
  {
   "cell_type": "markdown",
   "metadata": {},
   "source": [
    "# Approaches to ML"
   ]
  },
  {
   "cell_type": "code",
   "execution_count": null,
   "metadata": {},
   "outputs": [],
   "source": []
  },
  {
   "cell_type": "markdown",
   "metadata": {},
   "source": [
    "## Supervised Learning"
   ]
  },
  {
   "cell_type": "markdown",
   "metadata": {},
   "source": [
    "In supervised learning, the data has _labels_, which are the expected or observed prediction. "
   ]
  },
  {
   "cell_type": "markdown",
   "metadata": {},
   "source": [
    "## Unsupervised Learning"
   ]
  },
  {
   "cell_type": "markdown",
   "metadata": {},
   "source": [
    "In unsupervised learning, the data _does not_ have lables, so there is no inherit expectation for a predicted property for the system. "
   ]
  }
 ],
 "metadata": {
  "kernelspec": {
   "display_name": "Python 3",
   "language": "python",
   "name": "python3"
  },
  "language_info": {
   "codemirror_mode": {
    "name": "ipython",
    "version": 3
   },
   "file_extension": ".py",
   "mimetype": "text/x-python",
   "name": "python",
   "nbconvert_exporter": "python",
   "pygments_lexer": "ipython3",
   "version": "3.6.8"
  }
 },
 "nbformat": 4,
 "nbformat_minor": 2
}
