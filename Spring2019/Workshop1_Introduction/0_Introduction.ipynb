{
 "cells": [
  {
   "cell_type": "markdown",
   "metadata": {},
   "source": [
    "# Welcome to Machine Learning"
   ]
  },
  {
   "cell_type": "markdown",
   "metadata": {},
   "source": [
    "*\\[Machine Learning is \\] field of study that gives computers the ability to learn without being explicitly programmed.* --- Arthur Samuel, 1959\n",
    "\n",
    "\n",
    "Let's consider a standard problem: *Given a set of emails, classify them as spam or non-spam.*\n",
    "\n",
    "## Traditional Approach to this problem\n",
    "\n",
    "Here is an example of the path we might take to develop this classification:\n",
    "\n",
    "1. First, we would identify some common phrases in a spam message (\"4U\", \"credit card\", \"free\", \"amazing\", \"one simple trick\", ...). We might also identify some other common patterns in sender's name, email's name, domains, ...\n",
    "\n",
    "2. We would write set of rules (pattern recognization) and \n",
    "\n",
    "\n",
    "## Machine \n"
   ]
  },
  {
   "cell_type": "markdown",
   "metadata": {},
   "source": [
    "# Machine Learning terminology\n",
    "\n",
    "There is some terminology that has become the common way to refer to different components of the system.\n",
    "\n",
    "## Features\n",
    "\n",
    "_Features_ are the input values for making a model. For instance, the feature set for a model to describe salary offer for a potential new employee may include:\n",
    "* Years Education\n",
    "* Degrees completed\n",
    "* Years Experience in similar positions\n",
    "* Previous salary\n",
    "* Previous job location\n",
    "* Need to fill the position \n",
    "\n",
    "The features may be numbers (years education, years experience, ...) or they may be discrete categories (degrees completed). \n",
    "\n",
    "## Training Data\n",
    "\n",
    "## Testing Data\n",
    "\n",
    "## Holdout Data\n",
    "\n",
    "## Labels\n",
    "\n",
    "Labels are quanitities or qualitities that we are attempting to predict using our model."
   ]
  },
  {
   "cell_type": "markdown",
   "metadata": {},
   "source": [
    "# Approaches to ML"
   ]
  },
  {
   "cell_type": "code",
   "execution_count": null,
   "metadata": {},
   "outputs": [],
   "source": []
  },
  {
   "cell_type": "markdown",
   "metadata": {},
   "source": [
    "## Supervised Learning"
   ]
  },
  {
   "cell_type": "markdown",
   "metadata": {},
   "source": [
    "In supervised learning, models are developed by using labeled data."
   ]
  },
  {
   "cell_type": "markdown",
   "metadata": {},
   "source": [
    "## Unsupervised Learning"
   ]
  },
  {
   "cell_type": "markdown",
   "metadata": {},
   "source": [
    "In unsupervised learning, the data _does not_ have lables, so there is no inherit expectation for a predicted property for the system. "
   ]
  },
  {
   "cell_type": "markdown",
   "metadata": {},
   "source": [
    "## Reinforcement Learning"
   ]
  },
  {
   "cell_type": "markdown",
   "metadata": {},
   "source": [
    "# Types of Problems in ML"
   ]
  },
  {
   "cell_type": "code",
   "execution_count": null,
   "metadata": {},
   "outputs": [],
   "source": []
  },
  {
   "cell_type": "markdown",
   "metadata": {},
   "source": [
    "## Regression\n",
    "\n",
    "Regression problems are cases where a numeric answer is predicted based on the feature set. As an example, we may predict the cost of an apartment based on the feature set:\n",
    "* Square footage\n",
    "* Number of bedrooms\n",
    "* Number of bathrooms\n",
    "* Presence of any number of amenties\n",
    "* Crime rate in the local area\n",
    "* etc\n",
    "\n",
    "\n",
    "There are a number of types of regression:\n",
    "* Simple Linear Regression\n",
    "* Multiple Linear Regression\n",
    "* Polynomial Regression\n",
    "* Support Vector for Regression (SVR)\n",
    "* Decision Tree Classification\n",
    "* Random Forest Classification"
   ]
  },
  {
   "cell_type": "markdown",
   "metadata": {},
   "source": [
    "## Classification"
   ]
  },
  {
   "cell_type": "markdown",
   "metadata": {},
   "source": [
    "In classification problems, a discrete propertry or class is determined based on the feature set (which may be discrete or numeric as desired). As an example, we may classify if school will be on *normal schedule*, *delayed schedule*, or *canceled* based on an number of feature:\n",
    "\n",
    "* Temperature\n",
    "* Presence of Ice\n",
    "* Amount Snowfall since midnight on the day\n",
    "* Number of students within 1 mile\n",
    "* Number of students within 5 miles\n",
    "* Number of students with greater than 5 mile distance\n",
    "* Number of faculty and staff within 1 mile\n",
    "* Number of faculty and staff within 5 miles\n",
    "* Number of faculty and staff with greater than 5 mile distance\n",
    "* Has a state of emergency been declared\n",
    "* etc\n"
   ]
  },
  {
   "cell_type": "markdown",
   "metadata": {},
   "source": [
    "## Clustering"
   ]
  },
  {
   "cell_type": "markdown",
   "metadata": {},
   "source": [
    "# Resources for Further Study\n",
    "\n",
    "\n",
    "* [Google Machine Learning Crash Course](https://developers.google.com/machine-learning/crash-course/ml-intro)\n",
    "* "
   ]
  },
  {
   "cell_type": "code",
   "execution_count": null,
   "metadata": {},
   "outputs": [],
   "source": []
  }
 ],
 "metadata": {
  "kernelspec": {
   "display_name": "Python 3",
   "language": "python",
   "name": "python3"
  },
  "language_info": {
   "codemirror_mode": {
    "name": "ipython",
    "version": 3
   },
   "file_extension": ".py",
   "mimetype": "text/x-python",
   "name": "python",
   "nbconvert_exporter": "python",
   "pygments_lexer": "ipython3",
   "version": "3.6.8"
  }
 },
 "nbformat": 4,
 "nbformat_minor": 2
}
