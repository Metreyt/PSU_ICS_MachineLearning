{
 "cells": [
  {
   "cell_type": "markdown",
   "metadata": {},
   "source": [
    "# Introduction to TensorFlow"
   ]
  },
  {
   "cell_type": "markdown",
   "metadata": {},
   "source": [
    "TensorFlow is is an open-source machine learning library for research and production. \n",
    "\n",
    "*Resources*\n",
    "\n",
    "[Offical TensorFlow Website](https://tensorflow.org)\n",
    "\n",
    "The TensorFlow libary consists of multiple APIs that can be used to interact with the library. The TensorFlow APIs are divided into two levels:\n",
    "\n",
    "* **Low-level:** This API, which is referred to as the TensorFlow core, provides low-level and complete control, albeit at the least user-friendly level.\n",
    "\n",
    "* **High-level:** The higher-level APIs provide high-level functionarlities which have been build for the user and are *easier* to learn and implement. Some examples are Esterimators, Keras, TFLearn, TFSlim, and Sonnet."
   ]
  },
  {
   "cell_type": "markdown",
   "metadata": {},
   "source": [
    "The first step is to load the TensorFlow library"
   ]
  },
  {
   "cell_type": "code",
   "execution_count": 17,
   "metadata": {},
   "outputs": [],
   "source": [
    "import tensorflow as tf\n",
    "import numpy as np"
   ]
  },
  {
   "cell_type": "markdown",
   "metadata": {},
   "source": [
    "Below is the code for a basic \"Hello World\" in TensorFlow syntax:"
   ]
  },
  {
   "cell_type": "code",
   "execution_count": 2,
   "metadata": {},
   "outputs": [
    {
     "name": "stdout",
     "output_type": "stream",
     "text": [
      "b'Hello world!!!'\n"
     ]
    }
   ],
   "source": [
    "hello = tf.constant(\"Hello world!!!\")\n",
    "with tf.Session() as sess:\n",
    "    print(sess.run(hello))"
   ]
  },
  {
   "cell_type": "markdown",
   "metadata": {},
   "source": [
    "The first thing we can notice is that the hello variable is defined as a different type for use with the TensorFlow API. \n",
    "\n",
    "There are a number of data types that have been defined for use with the TensorFlow core:\n",
    "\n",
    "|TF API data type| Description|\n",
    "|:----------------|------------:|\n",
    "|tf.float16      | 16-bit floating point (half-percision)|\n",
    "|tf.float32     | 32-bit floating point (single-precision)|\n",
    "|tf.float64     | 64-bit floating point (double-precision)|\n",
    "|tf.int8        | 8-bit integer (signed)|\n",
    "|tf.int16       | 16-bit integer (signed)|\n",
    "|tf.int32       | 32-bit integer (signed)|\n",
    "|tf.int64       | 64-bit integer (signed)|\n",
    "\n",
    "**It is very important to use TF data types for defining tensors instead of native data types from Python or from Numpy**\n",
    "\n",
    "Tensors are created in several ways:\n",
    "\n",
    "* By defining constants, operations, and vaariables, which are passed into the constructors for the tensors.\n",
    "\n",
    "* By defining placeholders and passing the values to `session.run()`\n",
    "\n",
    "* By converting Python objects, such as scalars, list, arrays, and dataframes, with the included command `tf.convert_to_tensor()`. \n",
    "\n",
    "We will now look as the different ways of creating tensors. "
   ]
  },
  {
   "cell_type": "markdown",
   "metadata": {},
   "source": [
    "# Constants\n",
    "\n",
    "A constanted valued tensor is created using the `tf.constant()` function and will have the definition:\n",
    "\n",
    "```\n",
    "tf.constant(value,dtype=None,shape=None, name='const_name', verify_shape=False)\n",
    "```\n",
    "\n",
    "Here are some examples of creating constants:"
   ]
  },
  {
   "cell_type": "code",
   "execution_count": 3,
   "metadata": {},
   "outputs": [],
   "source": [
    "const1=tf.constant(42,name='answer')\n",
    "const2=tf.constant(3.14159,name='pi')\n",
    "const3=tf.constant(2.718,dtype=tf.float16,name='e')"
   ]
  },
  {
   "cell_type": "markdown",
   "metadata": {},
   "source": [
    "In the first line of the previous box, a constant tensor is created which has the value of 42 and an internal name of answer. \n",
    "\n",
    "In the second line, a constant tensor is created with the value of 3.14159 and the name pi. \n",
    "\n",
    "In the third line, a constant tensor is created with the name e, the value 2.718, and the data type is explicitly set to be `tf.float16`\n",
    "\n",
    "Let's see what the information on these values is internally:"
   ]
  },
  {
   "cell_type": "code",
   "execution_count": 4,
   "metadata": {},
   "outputs": [
    {
     "name": "stdout",
     "output_type": "stream",
     "text": [
      "const1: Tensor(\"answer:0\", shape=(), dtype=int32)\n",
      "const2: Tensor(\"pi:0\", shape=(), dtype=float32)\n",
      "const3: Tensor(\"e:0\", shape=(), dtype=float16)\n"
     ]
    }
   ],
   "source": [
    "print('const1:', const1)\n",
    "print('const2:', const2)\n",
    "print('const3:', const3)"
   ]
  },
  {
   "cell_type": "markdown",
   "metadata": {},
   "source": [
    "We see that the type given to `const1` and `const2` was deuced by Tensorflow. **Note that this could lead to unexpected results if TensorFlow's guess is not your expected value.**\n",
    "\n",
    "To print the values of the constant, we can execute them in a TensorFlow session:"
   ]
  },
  {
   "cell_type": "code",
   "execution_count": 5,
   "metadata": {},
   "outputs": [
    {
     "name": "stdout",
     "output_type": "stream",
     "text": [
      "run([const1,const2,const3]): [42, 3.14159, 2.719]\n"
     ]
    }
   ],
   "source": [
    "with tf.Session() as sess:\n",
    "    print('run([const1,const2,const3]):', sess.run([const1,const2,const3]))"
   ]
  },
  {
   "cell_type": "markdown",
   "metadata": {},
   "source": [
    "# Operations\n",
    "\n",
    "Now that we have one way of defining tensors, let's briefly highlight the TensorFlow library built-in operations for tensors. An operation node can be defined by passing input values and saving the output in another tensor. \n",
    "Here are two examples:"
   ]
  },
  {
   "cell_type": "code",
   "execution_count": 6,
   "metadata": {},
   "outputs": [],
   "source": [
    "myconst1 = tf.constant(10,name='x1')\n",
    "myconst2 = tf.constant(20,name='x2')\n",
    "op1 = tf.add(myconst1,myconst2)\n",
    "op2 = tf.multiply(myconst1,myconst2)"
   ]
  },
  {
   "cell_type": "markdown",
   "metadata": {},
   "source": [
    "Let's print the types, as well as the results:"
   ]
  },
  {
   "cell_type": "code",
   "execution_count": 7,
   "metadata": {},
   "outputs": [
    {
     "name": "stdout",
     "output_type": "stream",
     "text": [
      "op1:  Tensor(\"Add:0\", shape=(), dtype=int32)\n",
      "op2:  Tensor(\"Mul:0\", shape=(), dtype=int32)\n",
      "run(op1): 30\n",
      "run(op2): 200\n"
     ]
    }
   ],
   "source": [
    "print('op1: ', op1)\n",
    "print('op2: ', op2)\n",
    "with tf.Session() as sess:\n",
    "    print('run(op1):',sess.run(op1))\n",
    "    print('run(op2):',sess.run(op2))"
   ]
  },
  {
   "cell_type": "markdown",
   "metadata": {},
   "source": [
    "There are several built-in operations of TensorFlow, including arithematic, math functions, and complex number operations."
   ]
  },
  {
   "cell_type": "markdown",
   "metadata": {},
   "source": [
    "# Placeholders\n",
    "\n",
    "While constants store the value at the time of definition, placeholders allow us to create empty tensors so the values can be placed at runtime. *Think of this as creating a type variable.*\n",
    "\n",
    "The function that is used to create placeholders is \n",
    "```\n",
    "tf.placeholder(dtype,shape=None,name=None)\n",
    "```\n",
    "\n",
    "Let's put this into practice:"
   ]
  },
  {
   "cell_type": "code",
   "execution_count": 8,
   "metadata": {},
   "outputs": [
    {
     "name": "stdout",
     "output_type": "stream",
     "text": [
      "p1:  Tensor(\"Placeholder:0\", dtype=float32)\n",
      "p2:  Tensor(\"Placeholder_1:0\", dtype=float32)\n"
     ]
    }
   ],
   "source": [
    "p1 = tf.placeholder(tf.float32)\n",
    "p2 = tf.placeholder(tf.float32)\n",
    "print('p1: ',p1)\n",
    "print('p2: ',p2)"
   ]
  },
  {
   "cell_type": "markdown",
   "metadata": {},
   "source": [
    "Let's use these placeholders to defined an operation:"
   ]
  },
  {
   "cell_type": "code",
   "execution_count": 9,
   "metadata": {},
   "outputs": [],
   "source": [
    "mult_op = tf.multiply(p1,p2)"
   ]
  },
  {
   "cell_type": "markdown",
   "metadata": {},
   "source": [
    "The operators * is overloaded so it is possible to also define this as"
   ]
  },
  {
   "cell_type": "code",
   "execution_count": 10,
   "metadata": {},
   "outputs": [],
   "source": [
    "mult_op = p1*p2"
   ]
  },
  {
   "cell_type": "markdown",
   "metadata": {},
   "source": [
    "We can now feed values at run time, like this: "
   ]
  },
  {
   "cell_type": "code",
   "execution_count": 11,
   "metadata": {},
   "outputs": [
    {
     "name": "stdout",
     "output_type": "stream",
     "text": [
      "run(mult_op,{p1:13.4,p2:61.7}): 826.77997\n"
     ]
    }
   ],
   "source": [
    "with tf.Session() as sess:\n",
    "    print('run(mult_op,{p1:13.4,p2:61.7}):', sess.run(mult_op,{p1:13.4,p2:61.7}))"
   ]
  },
  {
   "cell_type": "markdown",
   "metadata": {},
   "source": [
    "We can also specify the feed dictonary like this:"
   ]
  },
  {
   "cell_type": "code",
   "execution_count": 12,
   "metadata": {},
   "outputs": [
    {
     "name": "stdout",
     "output_type": "stream",
     "text": [
      "run(mult_op, feed_dict = {p1:15.4, p2:19.5}) 300.3\n"
     ]
    }
   ],
   "source": [
    "feed_dict={p1:15.4, p2: 19.5}\n",
    "with tf.Session() as sess:\n",
    "    print('run(mult_op, feed_dict = {p1:15.4, p2:19.5})', sess.run(mult_op,feed_dict=feed_dict))"
   ]
  },
  {
   "cell_type": "markdown",
   "metadata": {},
   "source": [
    "We may also use a vector to fed to the opterion as well:"
   ]
  },
  {
   "cell_type": "code",
   "execution_count": 13,
   "metadata": {},
   "outputs": [
    {
     "name": "stdout",
     "output_type": "stream",
     "text": [
      "run(mult_op,feed_dict={p1:[2.0,3.0,4.0],p2:[3.0,4.0,5.0]}): [ 6. 12. 20.]\n"
     ]
    }
   ],
   "source": [
    "feed_dict={p1:[2.0,3.0,4.0],p2:[3.0,4.0,5.0]}\n",
    "with tf.Session() as sess:\n",
    "    print('run(mult_op,feed_dict={p1:[2.0,3.0,4.0],p2:[3.0,4.0,5.0]}):', sess.run(mult_op,feed_dict=feed_dict))"
   ]
  },
  {
   "cell_type": "markdown",
   "metadata": {},
   "source": [
    "# Tensors from Python objects\n",
    "\n",
    "Tensors can be created from oejects such as lists, arrays, and dataframes. In order to do this, the `tf.convert_to_tensor()` function is used as:\n",
    "```\n",
    "tf.convert_to_tensor(value, dtype=None,name=None,preferred_dtype=None)\n",
    "```\n",
    "\n",
    "## 0-D tensor (scalar)"
   ]
  },
  {
   "cell_type": "code",
   "execution_count": 15,
   "metadata": {},
   "outputs": [
    {
     "name": "stdout",
     "output_type": "stream",
     "text": [
      "scalar Tensor(\"pi_2:0\", shape=(), dtype=float64)\n",
      "run(scalar): 3.14159\n"
     ]
    }
   ],
   "source": [
    "scalar = tf.convert_to_tensor(3.14159,dtype=tf.float64, name='pi')\n",
    "with tf.Session() as sess:\n",
    "    print('scalar',scalar)\n",
    "    print('run(scalar):', sess.run(scalar))"
   ]
  },
  {
   "cell_type": "markdown",
   "metadata": {},
   "source": [
    "## 1-D tensor "
   ]
  },
  {
   "cell_type": "code",
   "execution_count": 18,
   "metadata": {},
   "outputs": [
    {
     "name": "stdout",
     "output_type": "stream",
     "text": [
      "a1dim Shape: (5,)\n",
      "a1dim_tf:  Tensor(\"Const_1:0\", shape=(5,), dtype=float64)\n",
      "a1dim_tf[0]:  Tensor(\"strided_slice:0\", shape=(), dtype=float64)\n",
      "run(a1dim_tf[0]):  1.0\n",
      "run(a1dim_tf):  [1.   2.   3.   4.   9.99]\n"
     ]
    }
   ],
   "source": [
    "a1dim = np.array([1,2,3,4,9.99])\n",
    "print(\"a1dim Shape:\",a1dim.shape)\n",
    "a1dim_tf = tf.convert_to_tensor(a1dim,dtype=tf.float64)\n",
    "with tf.Session() as sess:\n",
    "    print(\"a1dim_tf: \", a1dim_tf)\n",
    "    print(\"a1dim_tf[0]: \", a1dim_tf[0])\n",
    "    print(\"run(a1dim_tf[0]): \", sess.run(a1dim_tf[0]))\n",
    "    print(\"run(a1dim_tf): \", sess.run(a1dim_tf))"
   ]
  },
  {
   "cell_type": "markdown",
   "metadata": {},
   "source": [
    "# TensorFlow Variables"
   ]
  },
  {
   "cell_type": "code",
   "execution_count": null,
   "metadata": {},
   "outputs": [],
   "source": []
  },
  {
   "cell_type": "markdown",
   "metadata": {},
   "source": [
    "# Computational Graph"
   ]
  },
  {
   "cell_type": "code",
   "execution_count": null,
   "metadata": {},
   "outputs": [],
   "source": []
  }
 ],
 "metadata": {
  "kernelspec": {
   "display_name": "Python 3",
   "language": "python",
   "name": "python3"
  },
  "language_info": {
   "codemirror_mode": {
    "name": "ipython",
    "version": 3
   },
   "file_extension": ".py",
   "mimetype": "text/x-python",
   "name": "python",
   "nbconvert_exporter": "python",
   "pygments_lexer": "ipython3",
   "version": "3.6.6"
  }
 },
 "nbformat": 4,
 "nbformat_minor": 2
}
